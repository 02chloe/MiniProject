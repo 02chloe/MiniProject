{
 "cells": [
  {
   "cell_type": "code",
   "execution_count": 60,
   "metadata": {
    "executionInfo": {
     "elapsed": 1332,
     "status": "ok",
     "timestamp": 1618471179979,
     "user": {
      "displayName": "t eric",
      "photoUrl": "",
      "userId": "18116180999375377005"
     },
     "user_tz": -480
    },
    "id": "emtrK0mAAeRf"
   },
   "outputs": [],
   "source": [
    "import pandas as pd\n",
    "from xgboost import XGBClassifier\n",
    "from sklearn.model_selection import train_test_split\n",
    "from sklearn.metrics import accuracy_score\n",
    "import numpy as np\n",
    "from sklearn import metrics\n",
    "from sklearn.linear_model import LogisticRegression  "
   ]
  },
  {
   "cell_type": "code",
   "execution_count": 61,
   "metadata": {
    "executionInfo": {
     "elapsed": 1833,
     "status": "ok",
     "timestamp": 1618471180485,
     "user": {
      "displayName": "t eric",
      "photoUrl": "",
      "userId": "18116180999375377005"
     },
     "user_tz": -480
    },
    "id": "s-kLf1CqAkje"
   },
   "outputs": [],
   "source": [
    "#这个是用来评价咱们模型的效果的，详细的看print的东西就可以了\n",
    "\n",
    "\n",
    "def model_score(y_true, y_pred):\n",
    "    classify_report = metrics.classification_report(y_true, y_pred)\n",
    "    confusion_matrix = metrics.confusion_matrix(y_true, y_pred)\n",
    "    overall_accuracy = metrics.accuracy_score(y_true, y_pred)\n",
    "    acc_for_each_class = metrics.precision_score(y_true, y_pred, average=None)\n",
    "    average_accuracy = np.mean(acc_for_each_class)\n",
    "    score = metrics.accuracy_score(y_true, y_pred)\n",
    "    print('classify_report : \\n', classify_report)\n",
    "    print('confusion_matrix : \\n', confusion_matrix)\n",
    "    print('acc_for_each_class : \\n', acc_for_each_class)\n",
    "    print('average_accuracy: {0:f}'.format(average_accuracy))\n",
    "    print('overall_accuracy: {0:f}'.format(overall_accuracy))\n",
    "    print('score: {0:f}'.format(score))"
   ]
  },
  {
   "cell_type": "code",
   "execution_count": 62,
   "metadata": {
    "executionInfo": {
     "elapsed": 9412,
     "status": "ok",
     "timestamp": 1618471188068,
     "user": {
      "displayName": "t eric",
      "photoUrl": "",
      "userId": "18116180999375377005"
     },
     "user_tz": -480
    },
    "id": "X1LeDMjpAkmF"
   },
   "outputs": [],
   "source": [
    "#数据处理与xgboost模型的一直，这里就不再重复注释\n",
    "\n",
    "from keras.models import Sequential\n",
    "from keras.layers import LSTM, Dense, Dropout, Masking, Embedding\n",
    "from keras.callbacks import EarlyStopping, ModelCheckpoint\n",
    "#考虑昨天最后几单bid和ask不会影响今天的报价\n",
    "class DataPre():\n",
    "    def __init__(self,filename,n_gram):\n",
    "        self.filename = filename\n",
    "        self.n_gram = n_gram\n",
    "\n",
    "    def get_orignal_data(self):\n",
    "        self.orignal_data = pd.read_csv(self.filename,header=None)\n",
    "        self.orignal_data = self.orignal_data.groupby([11]).apply(lambda x :x[1:-1])\n",
    "        self.orignal_data.dropna(inplace=True)\n",
    "        self.orignal_data.drop([11],axis=1,inplace=True)\n",
    "        self.orignal_data = self.orignal_data.reset_index()\n",
    "\n",
    "    def data_split(self,x):\n",
    "#         split_index = [[i+j for j in range(self.n_gram)] for i in range(len(self.orignal_data)-self.n_gram+1)]\n",
    "#         split_data_x = [np.concatenate(data.orignal_data_x.iloc[i].values) for i in split_index]\n",
    "        orignal_data_x = x[[i for i in range(10)]]\n",
    "        orignal_data_y = x[10]\n",
    "        data_ = np.concatenate(orignal_data_x.values)\n",
    "        split_data = pd.DataFrame([ data_[i*10:i*10+10*self.n_gram ] for i in range(len(orignal_data_x)-self.n_gram+1 )])\n",
    "        split_data_y = orignal_data_y[self.n_gram-1:].values\n",
    "        split_data['y'] = split_data_y\n",
    "        return split_data\n",
    "    \n",
    "    def get_data(self):\n",
    "        result = self.orignal_data.drop(['level_1'],axis=1).groupby([11]).apply(lambda x:self.data_split(x))\n",
    "        result = pd.DataFrame(result.values)\n",
    "        result.rename(columns={result.columns[-1]:'y'},inplace=True)\n",
    "        return result\n",
    "    \n",
    "seed = 7\n",
    "test_size = 0.2\n",
    "data = DataPre('/content/drive/MyDrive/data.csv',4)\n",
    "data.get_orignal_data()\n",
    "split_data = data.get_data()\n",
    "\n",
    "X_train, X_test, y_train, y_test = train_test_split(split_data.drop(['y'],axis=1), split_data['y'], test_size=test_size, random_state=seed)\n",
    "X_train, X_valid, y_train, y_valid = train_test_split(X_train,y_train , test_size=0.2, random_state=seed)\n",
    "\n",
    "\n"
   ]
  },
  {
   "cell_type": "code",
   "execution_count": 63,
   "metadata": {
    "executionInfo": {
     "elapsed": 9409,
     "status": "ok",
     "timestamp": 1618471188069,
     "user": {
      "displayName": "t eric",
      "photoUrl": "",
      "userId": "18116180999375377005"
     },
     "user_tz": -480
    },
    "id": "UUr8Sd2FAkoU"
   },
   "outputs": [],
   "source": [
    "#尝试过后发现对数据进行放缩后，效果还不适合很好，所以最后没有用\n",
    "# from sklearn.preprocessing import MinMaxScaler\n",
    "\n",
    "# scaler = MinMaxScaler(feature_range=(0, 1))\n",
    "# print(scaler)\n",
    "# # 对数据进行缩放\n",
    "# scaled_values = scaler.fit_transform(X_train)\n",
    "# scaled_values"
   ]
  },
  {
   "cell_type": "code",
   "execution_count": 64,
   "metadata": {
    "executionInfo": {
     "elapsed": 9405,
     "status": "ok",
     "timestamp": 1618471188069,
     "user": {
      "displayName": "t eric",
      "photoUrl": "",
      "userId": "18116180999375377005"
     },
     "user_tz": -480
    },
    "id": "p9tDD3vBAkrB"
   },
   "outputs": [],
   "source": [
    "#LSTM模型对输入的数据有格式要求，所以这里对数据进行reshap操作\n",
    "X_train = np.reshape(X_train.values, (X_train.shape[0],  X_train.shape[1], 1))\n",
    "X_valid = np.reshape(X_valid.values, (X_valid.shape[0], X_valid.shape[1], 1))\n",
    "X_test = np.reshape(X_test.values, (X_test.shape[0], X_test.shape[1], 1))"
   ]
  },
  {
   "cell_type": "code",
   "execution_count": 65,
   "metadata": {
    "executionInfo": {
     "elapsed": 9401,
     "status": "ok",
     "timestamp": 1618471188070,
     "user": {
      "displayName": "t eric",
      "photoUrl": "",
      "userId": "18116180999375377005"
     },
     "user_tz": -480
    },
    "id": "lym_VcmQ8leO"
   },
   "outputs": [],
   "source": [
    "from keras.models import Sequential\n",
    "from keras.layers import Dense\n",
    "from keras.layers import LSTM\n",
    "from keras.layers import Dropout,TimeDistributed\n",
    "from keras.optimizers import RMSprop,Nadam\n",
    "from keras.utils.np_utils import to_categorical\n"
   ]
  },
  {
   "cell_type": "code",
   "execution_count": 66,
   "metadata": {
    "executionInfo": {
     "elapsed": 9398,
     "status": "ok",
     "timestamp": 1618471188070,
     "user": {
      "displayName": "t eric",
      "photoUrl": "",
      "userId": "18116180999375377005"
     },
     "user_tz": -480
    },
    "id": "-XftNUZa9dOd"
   },
   "outputs": [],
   "source": [
    "# regressor = Sequential()\n",
    "\n",
    "# regressor.add(LSTM(units = 50, return_sequences = True, input_shape = (X_train.shape[1], 1)))\n",
    "# regressor.add(Dropout(0.2))\n",
    "\n",
    "# regressor.add(LSTM(units = 50, return_sequences = True))\n",
    "# regressor.add(Dropout(0.2))\n",
    "\n",
    "# regressor.add(LSTM(units = 50, return_sequences = True))\n",
    "# regressor.add(Dropout(0.2))\n",
    "\n",
    "# regressor.add(LSTM(units = 50))\n",
    "# regressor.add(Dropout(0.2))\n",
    "\n",
    "# regressor.add(Dense(units = 1))\n",
    "# optimizer = RMSprop(lr=0.01, rho=0.9, epsilon=None, decay=0.0)\n",
    "# regressor.compile(optimizer = 'adam', loss = 'mean_squared_error')\n",
    "\n",
    "# regressor.fit(X_train, y_train, epochs = 100, batch_size=72, validation_data=(X_valid, y_valid), verbose=1)"
   ]
  },
  {
   "cell_type": "code",
   "execution_count": 66,
   "metadata": {
    "executionInfo": {
     "elapsed": 9394,
     "status": "ok",
     "timestamp": 1618471188070,
     "user": {
      "displayName": "t eric",
      "photoUrl": "",
      "userId": "18116180999375377005"
     },
     "user_tz": -480
    },
    "id": "PAzqC-gA-w6s"
   },
   "outputs": [],
   "source": [
    "\n"
   ]
  },
  {
   "cell_type": "code",
   "execution_count": 70,
   "metadata": {
    "colab": {
     "base_uri": "https://localhost:8080/"
    },
    "executionInfo": {
     "elapsed": 1851720,
     "status": "ok",
     "timestamp": 1618474278605,
     "user": {
      "displayName": "t eric",
      "photoUrl": "",
      "userId": "18116180999375377005"
     },
     "user_tz": -480
    },
    "id": "YN4rUnJ89j2f",
    "outputId": "af6bd282-b4f7-4611-ebda-3c63b78b59f6"
   },
   "outputs": [
    {
     "name": "stdout",
     "output_type": "stream",
     "text": [
      "Epoch 1/100\n",
      "4403/4403 [==============================] - 75s 16ms/step - loss: 0.6807 - accuracy: 0.5702 - val_loss: 0.6641 - val_accuracy: 0.5946\n",
      "Epoch 2/100\n",
      "4403/4403 [==============================] - 69s 16ms/step - loss: 0.6633 - accuracy: 0.5923 - val_loss: 0.6529 - val_accuracy: 0.6055\n",
      "Epoch 3/100\n",
      "4403/4403 [==============================] - 68s 16ms/step - loss: 0.6572 - accuracy: 0.5997 - val_loss: 0.6483 - val_accuracy: 0.6106\n",
      "Epoch 4/100\n",
      "4403/4403 [==============================] - 69s 16ms/step - loss: 0.6546 - accuracy: 0.6022 - val_loss: 0.6462 - val_accuracy: 0.6138\n",
      "Epoch 5/100\n",
      "4403/4403 [==============================] - 68s 15ms/step - loss: 0.6525 - accuracy: 0.6051 - val_loss: 0.6437 - val_accuracy: 0.6174\n",
      "Epoch 6/100\n",
      "4403/4403 [==============================] - 68s 15ms/step - loss: 0.6500 - accuracy: 0.6104 - val_loss: 0.6422 - val_accuracy: 0.6210\n",
      "Epoch 7/100\n",
      "4403/4403 [==============================] - 69s 16ms/step - loss: 0.6481 - accuracy: 0.6127 - val_loss: 0.6444 - val_accuracy: 0.6167\n",
      "Epoch 8/100\n",
      "4403/4403 [==============================] - 68s 15ms/step - loss: 0.6475 - accuracy: 0.6129 - val_loss: 0.6419 - val_accuracy: 0.6210\n",
      "Epoch 9/100\n",
      "4403/4403 [==============================] - 68s 15ms/step - loss: 0.6463 - accuracy: 0.6145 - val_loss: 0.6414 - val_accuracy: 0.6226\n",
      "Epoch 10/100\n",
      "4403/4403 [==============================] - 68s 15ms/step - loss: 0.6458 - accuracy: 0.6169 - val_loss: 0.6380 - val_accuracy: 0.6258\n",
      "Epoch 11/100\n",
      "4403/4403 [==============================] - 68s 16ms/step - loss: 0.6452 - accuracy: 0.6173 - val_loss: 0.6385 - val_accuracy: 0.6238\n",
      "Epoch 12/100\n",
      "4403/4403 [==============================] - 68s 16ms/step - loss: 0.6463 - accuracy: 0.6152 - val_loss: 0.6397 - val_accuracy: 0.6210\n",
      "Epoch 13/100\n",
      "4403/4403 [==============================] - 68s 15ms/step - loss: 0.6435 - accuracy: 0.6190 - val_loss: 0.6374 - val_accuracy: 0.6273\n",
      "Epoch 14/100\n",
      "4403/4403 [==============================] - 68s 15ms/step - loss: 0.6424 - accuracy: 0.6192 - val_loss: 0.6379 - val_accuracy: 0.6255\n",
      "Epoch 15/100\n",
      "4403/4403 [==============================] - 68s 15ms/step - loss: 0.6425 - accuracy: 0.6211 - val_loss: 0.6365 - val_accuracy: 0.6277\n",
      "Epoch 16/100\n",
      "4403/4403 [==============================] - 69s 16ms/step - loss: 0.6415 - accuracy: 0.6215 - val_loss: 0.6388 - val_accuracy: 0.6233\n",
      "Epoch 17/100\n",
      "4403/4403 [==============================] - 68s 15ms/step - loss: 0.6410 - accuracy: 0.6232 - val_loss: 0.6351 - val_accuracy: 0.6306\n",
      "Epoch 18/100\n",
      "4403/4403 [==============================] - 68s 15ms/step - loss: 0.6407 - accuracy: 0.6219 - val_loss: 0.6384 - val_accuracy: 0.6263\n",
      "Epoch 19/100\n",
      "4403/4403 [==============================] - 68s 16ms/step - loss: 0.6408 - accuracy: 0.6221 - val_loss: 0.6360 - val_accuracy: 0.6270\n",
      "Epoch 20/100\n",
      "4403/4403 [==============================] - 69s 16ms/step - loss: 0.6407 - accuracy: 0.6232 - val_loss: 0.6362 - val_accuracy: 0.6294\n",
      "Epoch 21/100\n",
      "4403/4403 [==============================] - 68s 16ms/step - loss: 0.6394 - accuracy: 0.6248 - val_loss: 0.6366 - val_accuracy: 0.6279\n",
      "Epoch 22/100\n",
      "4403/4403 [==============================] - 68s 16ms/step - loss: 0.6393 - accuracy: 0.6240 - val_loss: 0.6335 - val_accuracy: 0.6341\n",
      "Epoch 23/100\n",
      "4403/4403 [==============================] - 68s 15ms/step - loss: 0.6382 - accuracy: 0.6259 - val_loss: 0.6357 - val_accuracy: 0.6280\n",
      "Epoch 24/100\n",
      "4403/4403 [==============================] - 68s 15ms/step - loss: 0.6387 - accuracy: 0.6258 - val_loss: 0.6329 - val_accuracy: 0.6323\n",
      "Epoch 25/100\n",
      "4403/4403 [==============================] - 69s 16ms/step - loss: 0.6381 - accuracy: 0.6273 - val_loss: 0.6327 - val_accuracy: 0.6308\n",
      "Epoch 26/100\n",
      "4403/4403 [==============================] - 69s 16ms/step - loss: 0.6377 - accuracy: 0.6252 - val_loss: 0.6354 - val_accuracy: 0.6312\n",
      "Epoch 27/100\n",
      "4403/4403 [==============================] - 69s 16ms/step - loss: 0.6379 - accuracy: 0.6269 - val_loss: 0.6344 - val_accuracy: 0.6299\n",
      "Epoch 00027: early stopping\n"
     ]
    }
   ],
   "source": [
    "#构造lstm模型\n",
    "model = Sequential() \n",
    "\n",
    "model.add(LSTM(units = 50, return_sequences = True, input_shape = (X_train.shape[1], 1)))\n",
    "model.add(Dropout(0.2))\n",
    "\n",
    "model.add(LSTM(units = 50, return_sequences = True))\n",
    "model.add(Dropout(0.2))\n",
    "\n",
    "model.add(LSTM(units = 50, return_sequences = True))\n",
    "model.add(Dropout(0.2))\n",
    "\n",
    "model.add(LSTM(units = 50))\n",
    "model.add(Dropout(0.2))\n",
    "\n",
    "model.add(Dense(units = 2,activation='softmax'))\n",
    "\n",
    "\n",
    "optimizer = Nadam(lr=0.001, epsilon=None, decay=0.01) #选择优化器，学习速率等参数\n",
    "callback = EarlyStopping(monitor=\"val_accuracy\", patience=5, verbose=1, mode=\"auto\") #EarlyStop策略\n",
    "\n",
    "model.compile(optimizer = optimizer,  loss='categorical_crossentropy', metrics=['accuracy']) #构造模型\n",
    "\n",
    "b = to_categorical(y_train, 2) #将标签转换为2维，例如 1变成[0,1], 0变成[1,0] 这个代码只是写在这里给大家看，后面我是直接应用to_categorical函数的\n",
    "history = model.fit(X_train, to_categorical(y_train, 2), epochs = 100, batch_size=72, validation_data=(X_valid, to_categorical(y_valid,2)),callbacks=[callback], verbose=1)"
   ]
  },
  {
   "cell_type": "code",
   "execution_count": 71,
   "metadata": {
    "colab": {
     "base_uri": "https://localhost:8080/"
    },
    "executionInfo": {
     "elapsed": 15985,
     "status": "ok",
     "timestamp": 1618474305480,
     "user": {
      "displayName": "t eric",
      "photoUrl": "",
      "userId": "18116180999375377005"
     },
     "user_tz": -480
    },
    "id": "gklHQdHJI88C",
    "outputId": "e6bebcc9-712b-44c4-e46f-19d072ecc82e"
   },
   "outputs": [
    {
     "name": "stdout",
     "output_type": "stream",
     "text": [
      "classify_report : \n",
      "               precision    recall  f1-score   support\n",
      "\n",
      "         0.0       0.66      0.67      0.67     55406\n",
      "         1.0       0.58      0.57      0.57     43655\n",
      "\n",
      "    accuracy                           0.62     99061\n",
      "   macro avg       0.62      0.62      0.62     99061\n",
      "weighted avg       0.62      0.62      0.62     99061\n",
      "\n",
      "confusion_matrix : \n",
      " [[37135 18271]\n",
      " [18904 24751]]\n",
      "acc_for_each_class : \n",
      " [0.6626635  0.57531031]\n",
      "average_accuracy: 0.618987\n",
      "overall_accuracy: 0.624726\n",
      "score: 0.624726\n"
     ]
    }
   ],
   "source": [
    "y_pred = model.predict(X_test)\n",
    "y_pred.argmax(axis=1) #模型得到的是每个类别的概率，所以需要这一个步将概率转变成具体的类别\n",
    "model_score(y_test,y_pred.argmax(axis=1))"
   ]
  },
  {
   "cell_type": "code",
   "execution_count": null,
   "metadata": {
    "executionInfo": {
     "elapsed": 10577,
     "status": "aborted",
     "timestamp": 1618471189265,
     "user": {
      "displayName": "t eric",
      "photoUrl": "",
      "userId": "18116180999375377005"
     },
     "user_tz": -480
    },
    "id": "UyfTjKfzR7OV"
   },
   "outputs": [],
   "source": [
    "split_data['y'].value_counts()"
   ]
  },
  {
   "cell_type": "code",
   "execution_count": 73,
   "metadata": {
    "colab": {
     "base_uri": "https://localhost:8080/",
     "height": 573
    },
    "executionInfo": {
     "elapsed": 1371,
     "status": "ok",
     "timestamp": 1618474778079,
     "user": {
      "displayName": "t eric",
      "photoUrl": "",
      "userId": "18116180999375377005"
     },
     "user_tz": -480
    },
    "id": "2J2yD_gcJHqr",
    "outputId": "25be2975-4e75-4aa2-afcd-734af3a8c096"
   },
   "outputs": [
    {
     "data": {
      "image/png": "[encoded data removed]",
      "text/plain": [
       "<Figure size 432x288 with 1 Axes>"
      ]
     },
     "metadata": {
      "needs_background": "light",
      "tags": []
     },
     "output_type": "display_data"
    },
    {
     "data": {
      "image/png": "[encoded data removed]",
      "text/plain": [
       "<Figure size 432x288 with 1 Axes>"
      ]
     },
     "metadata": {
      "needs_background": "light",
      "tags": []
     },
     "output_type": "display_data"
    }
   ],
   "source": [
    "import matplotlib.pyplot as plt\n",
    "#画图就还比较好理解\n",
    "\n",
    "# 绘制训练 & 验证的准确率值\n",
    "plt.plot(history.history['accuracy'])\n",
    "plt.plot(history.history['val_accuracy'])\n",
    "plt.title('Model accuracy')\n",
    "plt.ylabel('Accuracy')\n",
    "plt.xlabel('Epoch')\n",
    "plt.legend(['Train', 'Test'], loc='upper left')\n",
    "plt.show()\n",
    "\n",
    "# 绘制训练 & 验证的损失值\n",
    "plt.plot(history.history['loss'])\n",
    "plt.plot(history.history['val_loss'])\n",
    "plt.title('Model loss')\n",
    "plt.ylabel('Loss')\n",
    "plt.xlabel('Epoch')\n",
    "plt.legend(['Train', 'Test'], loc='upper left')\n",
    "plt.show()"
   ]
  },
  {
   "cell_type": "code",
   "execution_count": null,
   "metadata": {
    "id": "JpYDqF8snPkK"
   },
   "outputs": [],
   "source": []
  }
 ],
 "metadata": {
  "accelerator": "GPU",
  "colab": {
   "authorship_tag": "ABX9TyNPHi3IXl32Q+fgmtTP15/v",
   "collapsed_sections": [],
   "mount_file_id": "1aYx8Pb4-9WfxkVJrFjB7FWmW7_0rcftq",
   "name": "level2stockDL.ipynb",
   "provenance": []
  },
  "kernelspec": {
   "display_name": "Python 3",
   "language": "python",
   "name": "python3"
  },
  "language_info": {
   "codemirror_mode": {
    "name": "ipython",
    "version": 3
   },
   "file_extension": ".py",
   "mimetype": "text/x-python",
   "name": "python",
   "nbconvert_exporter": "python",
   "pygments_lexer": "ipython3",
   "version": "3.8.3"
  }
 },
 "nbformat": 4,
 "nbformat_minor": 4
}
